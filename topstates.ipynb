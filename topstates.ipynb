top_States = covid_19.groupby('State/UnionTerritory')[['Confirmed']].sum().reset_index()
less_than_100 = len(top_States.query('(Confirmed<=100)'))
cases_100to1000 = len(top_States.query('(Confirmed>=100) & (Confirmed <=1000)'))
cases_1000to5000=len(top_States.query('(Confirmed>=1000) & (Confirmed <=5000)'))
cases_5000to10000=len(top_States.query('(Confirmed>=5000) & (Confirmed <=10000)'))
cases_10000to50000=len(top_States.query('(Confirmed>=10000) & (Confirmed <=50000)'))
above_50000=len(top_States.query('(Confirmed>=50000)'))
names='less_than_100', 'cases_100to1000', 'cases_1000to5000', 'cases_5000to10000','cases_10000to50000','above_50000'
size=[16,48,31,23,37,29]
my_circle=plt.Circle( (0,0), 0.5, color='white')

plt.pie(size, labels=names, colors=['orange','purple','blue','skyblue','pink','yellow'])
p=plt.gcf()
p.gca().add_artist(my_circle)
plt.show()
