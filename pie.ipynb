#Source of COVID immersion in India: Confirmed Foreign cases vs. Confirmed Indian National cases
df = pd.DataFrame([11,184], index=['ConfirmedIndianNational', 'ConfirmedForeignNational'])
df.plot(kind='pie', subplots=True,colors=['skyblue','pink'], figsize=(7, 8))
