#Confirmed cases
dfc = covid_19.groupby(['Date', 'State/UnionTerritory'])[['ConfirmedIndianNational', 'Confirmed']].sum().reset_index()
today = dfc['Date'].max()
print('Date: ', today)
for i in [100, 1000, 10000, 1000000, 100000000]:
    n_States = len(dfc.query('(Date == @today) & Confirmed > @i'))
    print(f'{n_States} States have more than {i} Confirmed')
