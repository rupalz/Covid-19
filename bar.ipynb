top_States_df = dfc.query('(Date == @today) & (Confirmed > 1000)').sort_values('Confirmed', ascending=False)

top_States_melt_df = pd.melt(top_States_df, id_vars='State/UnionTerritory', value_vars='Confirmed')

fig = px.bar(top_States_melt_df, x="State/UnionTerritory", y="value", color='variable',
              title=f'Confirmed as on {today}')
fig.show()
