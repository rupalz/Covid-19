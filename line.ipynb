top10_States = top_States.sort_values('Confirmed', ascending=False).iloc[:10]['State/UnionTerritory'].unique()
top10_States_df = dfc[dfc['State/UnionTerritory'].isin(top10_States)]
fig = px.line(top10_States_df,
              x='Date', y='Confirmed', color='State/UnionTerritory',
              title=f'Confirmed for top 10 States as on {today}')
fig.show()
